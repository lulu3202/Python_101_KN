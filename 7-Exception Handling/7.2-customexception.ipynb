{
 "cells": [
  {
   "cell_type": "markdown",
   "metadata": {},
   "source": [
    "# Custom (User-Defined) Exceptions in Python\n",
    "Sometimes, built-in exceptions are not enough, and you need to create your own exception."
   ]
  },
  {
   "cell_type": "markdown",
   "metadata": {},
   "source": []
  },
  {
   "cell_type": "markdown",
   "metadata": {},
   "source": [
    "### Basic Example: Age Validation\n",
    "Let's say we want to restrict users under 18 from signing up."
   ]
  },
  {
   "cell_type": "markdown",
   "metadata": {},
   "source": [
    "✅ Approach 1: Using pass (Simple & Quick)\n",
    "\n",
    "✔️ When to Use This Approach?\n",
    "When you only need to display a message.\n",
    "When you don’t need extra attributes (like storing age).\n",
    "When you just need a unique exception name for clarity."
   ]
  },
  {
   "cell_type": "code",
   "execution_count": null,
   "metadata": {},
   "outputs": [
    {
     "name": "stdout",
     "output_type": "stream",
     "text": [
      "You must be at least 18 years old!\n"
     ]
    }
   ],
   "source": [
    "class TooYoungError(Exception):  \n",
    "    pass  # No extra functionality, just a named exception\n",
    "\n",
    "age = 15\n",
    "try:\n",
    "    if age < 18:\n",
    "        raise TooYoungError(\"You must be at least 18 years old!\")  \n",
    "except TooYoungError as e:  \n",
    "    print(e)  # Output: You must be at least 18 years old!\n"
   ]
  },
  {
   "cell_type": "markdown",
   "metadata": {},
   "source": [
    " ✅ Approach 2: Using __init__ for Custom Exception Attributes\n",
    "\n",
    " ✔️ When to Use This Approach?\n",
    "When you need extra data (e.g., store the age for logging).\n",
    "When the error message needs customization.\n",
    "When you are building large applications that require structured error handling."
   ]
  },
  {
   "cell_type": "code",
   "execution_count": 3,
   "metadata": {},
   "outputs": [
    {
     "name": "stdout",
     "output_type": "stream",
     "text": [
      "Access Granted! ✅\n"
     ]
    }
   ],
   "source": [
    "# Step 1: Create a Custom Exception Class\n",
    "class UnderAgeError(Exception):  # Inherits from Exception\n",
    "    \"\"\"Custom Exception for Age Validation\"\"\"\n",
    "    def __init__(self, age, message=\"You must be at least 18 years old!\"):\n",
    "        self.age = age\n",
    "        self.message = message\n",
    "        super().__init__(self.message)  # Calls parent class (Exception) constructor\n",
    "\n",
    "# Step 2: Use the Custom Exception\n",
    "def check_age(age):\n",
    "    if age < 18:\n",
    "        raise UnderAgeError(age)  # Raising the custom exception\n",
    "    else:\n",
    "        print(\"Access Granted! ✅\")\n",
    "\n",
    "# Step 3: Handle the Exception\n",
    "try:\n",
    "    age = int(input(\"Enter your age: \"))  # User input\n",
    "    check_age(age)\n",
    "except UnderAgeError as e:\n",
    "    print(f\"Error: {e}\")  # Prints the custom message\n"
   ]
  },
  {
   "cell_type": "markdown",
   "metadata": {},
   "source": [
    "# Key Differences\n",
    "If you just need a message, pass is fine. But if you need to store extra information, use __init__."
   ]
  },
  {
   "cell_type": "markdown",
   "metadata": {},
   "source": []
  }
 ],
 "metadata": {
  "kernelspec": {
   "display_name": "Python 3",
   "language": "python",
   "name": "python3"
  },
  "language_info": {
   "codemirror_mode": {
    "name": "ipython",
    "version": 3
   },
   "file_extension": ".py",
   "mimetype": "text/x-python",
   "name": "python",
   "nbconvert_exporter": "python",
   "pygments_lexer": "ipython3",
   "version": "3.12.0"
  }
 },
 "nbformat": 4,
 "nbformat_minor": 2
}
